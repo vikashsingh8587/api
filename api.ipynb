{
 "cells": [
  {
   "cell_type": "code",
   "execution_count": 1,
   "id": "95b9d179-07dd-4d1c-97bb-5cf36483694f",
   "metadata": {},
   "outputs": [],
   "source": [
    "#Q1. What is an API? Give an example, where an API is used in real life."
   ]
  },
  {
   "cell_type": "code",
   "execution_count": 4,
   "id": "e52216d8-a5f7-49d9-9932-d6fcd76f86bd",
   "metadata": {},
   "outputs": [
    {
     "data": {
      "text/plain": [
       "'\\napi stand for application programming interface  . it work as a median or connecter between defferent defferent program or homogenious or hetrogenius application\\nfor example : we search on google  \\napi is used in mobile phone , banking ,webpages,app development .etc.\\n\\n'"
      ]
     },
     "execution_count": 4,
     "metadata": {},
     "output_type": "execute_result"
    }
   ],
   "source": [
    "'''\n",
    "api stand for application programming interface  . it work as a median or connecter between defferent defferent program or homogenious or hetrogenius application\n",
    "it isset of rule which connect the different different application. \n",
    "for example : we search on google  \n",
    "api is used in mobile phone , banking ,webpages,app development .etc.\n",
    "\n",
    "'''"
   ]
  },
  {
   "cell_type": "code",
   "execution_count": 5,
   "id": "3e82e00c-f6b9-459f-b214-17cf3dbad8ed",
   "metadata": {},
   "outputs": [],
   "source": [
    "#Give advantages and disadvantages of using API."
   ]
  },
  {
   "cell_type": "code",
   "execution_count": 1,
   "id": "6e982735-bc6b-4dfa-8ba1-4a06b7c4e36c",
   "metadata": {},
   "outputs": [
    {
     "data": {
      "text/plain": [
       "'\\nautomation :\\nwith api computer rather than people can manage the works .\\napi make works efficiency\\nit  increase the productivity \\nit make application more flexible \\n//// \\ndisadvantage:\\nit is very time consuming process\\na fixed scale necessary \\nimprecise boundry defination \\nto create api , programming knowledge is necessary \\nmaintainence cost is high \\n'"
      ]
     },
     "execution_count": 1,
     "metadata": {},
     "output_type": "execute_result"
    }
   ],
   "source": [
    "'''\n",
    "automation :\n",
    "with api computer rather than people can manage the works .\n",
    "api make works efficiency\n",
    "it  increase the productivity \n",
    "it make application more flexible \n",
    "//// \n",
    "disadvantage:\n",
    "it is very time consuming process\n",
    "a fixed scale necessary \n",
    "imprecise boundry defination \n",
    "to create api , programming knowledge is necessary \n",
    "maintainence cost is high \n",
    "'''"
   ]
  },
  {
   "cell_type": "code",
   "execution_count": 2,
   "id": "0114829d-4b4a-4bc5-8dcc-a0ed93d8cbaf",
   "metadata": {},
   "outputs": [],
   "source": [
    "# Q3. What is a Web API? Differentiate between API and Web API."
   ]
  },
  {
   "cell_type": "code",
   "execution_count": 3,
   "id": "014b2d35-9aec-4bb6-a36d-6cd03cf1e628",
   "metadata": {},
   "outputs": [
    {
     "data": {
      "text/plain": [
       "'\\n web api :\\n  those api are make by used of http  are called  web api. it is the sub set of api .\\n  /// defference between api and web api \\n  api :\\n  api stand for application programming interface  . it work as a median or connecter between defferent defferent program or homogenious or hetrogenius application\\nit isset of rule which connect the different different application. \\nfor example : we search on google  \\napi is used in mobile phone , banking ,webpages,app development .etc.\\nweb api :\\n those api are make by used of http  are called  web api. it is the sub set of api .\\n for example :\\n gmail ,google, webpages,etc.\\n\\n'"
      ]
     },
     "execution_count": 3,
     "metadata": {},
     "output_type": "execute_result"
    }
   ],
   "source": [
    "'''\n",
    " web api :\n",
    "  those api are make by used of http  are called  web api. it is the sub set of api .\n",
    "  /// defference between api and web api \n",
    "  api :\n",
    "  api stand for application programming interface  . it work as a median or connecter between defferent defferent program or homogenious or hetrogenius application\n",
    "it isset of rule which connect the different different application. \n",
    "for example : we search on google  \n",
    "api is used in mobile phone , banking ,webpages,app development .etc.\n",
    "web api :\n",
    " those api are make by used of http  are called  web api. it is the sub set of api .\n",
    " for example :\n",
    " gmail ,google, webpages,etc.\n",
    "\n",
    "'''"
   ]
  },
  {
   "cell_type": "code",
   "execution_count": 4,
   "id": "49fa7406-7447-4cbc-8c06-6641c3df3567",
   "metadata": {},
   "outputs": [],
   "source": [
    "\n",
    "#Q4. Explain REST and SOAP Architecture. Mention shortcomings of SOAP"
   ]
  },
  {
   "cell_type": "code",
   "execution_count": 5,
   "id": "5f4cdf1c-958a-413a-9cbe-58d1740362eb",
   "metadata": {},
   "outputs": [
    {
     "data": {
      "text/plain": [
       "\"\\nrest:\\n rest api access a resource for data (a url)\\n soap:\\n soap is a standardized protocal for transferring structurwe information that's more function driven \\n \\n\""
      ]
     },
     "execution_count": 5,
     "metadata": {},
     "output_type": "execute_result"
    }
   ],
   "source": [
    "'''\n",
    "rest:\n",
    " rest api access a resource for data (a url)\n",
    " soap:\n",
    " soap is a standardized protocal for transferring structurwe information that's more function driven \n",
    " \n",
    "'''"
   ]
  },
  {
   "cell_type": "code",
   "execution_count": 6,
   "id": "e6bcb594-f508-444e-84cc-87dff4108b96",
   "metadata": {},
   "outputs": [],
   "source": [
    "#Q5. Differentiate between REST and SOAP."
   ]
  },
  {
   "cell_type": "code",
   "execution_count": null,
   "id": "c103c7fd-9053-48de-b29e-d914a6d6191b",
   "metadata": {},
   "outputs": [],
   "source": [
    "'''\n",
    "rest:\n",
    "rest architecture is based on web api or web transaction  by the help of http protocal we can transfer insert and delete the data \n",
    "\n",
    "over the web data manipulation is done by rest protocal \n",
    "rest is easy to implemation\n",
    "rest is also known by simplicity ,scalability and flexibility. \n",
    "itis not light weight protocal \n",
    "\n",
    "soap :\n",
    " soap is based on XML it is used messaging protocal  it is file system and markup language ,interally soap are used WSDL and HTTP,SMtP,TCP/IP,\n",
    " it is not easy to implemation\n",
    " it is light weight protocal\n",
    " it is more secure than rest.\n",
    "'''"
   ]
  }
 ],
 "metadata": {
  "kernelspec": {
   "display_name": "Python 3 (ipykernel)",
   "language": "python",
   "name": "python3"
  },
  "language_info": {
   "codemirror_mode": {
    "name": "ipython",
    "version": 3
   },
   "file_extension": ".py",
   "mimetype": "text/x-python",
   "name": "python",
   "nbconvert_exporter": "python",
   "pygments_lexer": "ipython3",
   "version": "3.10.8"
  }
 },
 "nbformat": 4,
 "nbformat_minor": 5
}
